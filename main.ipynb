{
 "cells": [
  {
   "cell_type": "code",
   "execution_count": 2,
   "metadata": {},
   "outputs": [
    {
     "name": "stdout",
     "output_type": "stream",
     "text": [
      "Test Size: 0.2, K: 3, Distance Metric: euclidean, Accuracy: 0.67\n",
      "Test Size: 0.2, K: 3, Distance Metric: manhattan, Accuracy: 0.67\n",
      "Test Size: 0.2, K: 5, Distance Metric: euclidean, Accuracy: 0.67\n",
      "Test Size: 0.2, K: 5, Distance Metric: manhattan, Accuracy: 0.67\n",
      "Test Size: 0.2, K: 8, Distance Metric: euclidean, Accuracy: 0.67\n",
      "Test Size: 0.2, K: 8, Distance Metric: manhattan, Accuracy: 0.67\n",
      "Test Size: 0.3, K: 3, Distance Metric: euclidean, Accuracy: 0.80\n",
      "Test Size: 0.3, K: 3, Distance Metric: manhattan, Accuracy: 0.80\n",
      "Test Size: 0.3, K: 5, Distance Metric: euclidean, Accuracy: 0.80\n",
      "Test Size: 0.3, K: 5, Distance Metric: manhattan, Accuracy: 0.80\n",
      "Test Size: 0.3, K: 8, Distance Metric: euclidean, Accuracy: 0.60\n",
      "Test Size: 0.3, K: 8, Distance Metric: manhattan, Accuracy: 0.60\n"
     ]
    }
   ],
   "source": [
    "# import libraries\n",
    "import pandas as pd\n",
    "from sklearn.calibration import LabelEncoder\n",
    "from sklearn.model_selection import train_test_split\n",
    "from sklearn.neighbors import KNeighborsClassifier\n",
    "from sklearn.preprocessing import OneHotEncoder\n",
    "from sklearn.compose import ColumnTransformer\n",
    "from sklearn.metrics import accuracy_score\n",
    "\n",
    "# Membaca data\n",
    "data = pd.read_csv('dataset/cuaca.csv')\n",
    "\n",
    "# Melakukan one-hot encoding pada fitur-fitur kategori\n",
    "column_transformer = ColumnTransformer([('encoder', OneHotEncoder(), [0, 1, 2])], remainder='passthrough')\n",
    "X_encoded = column_transformer.fit_transform(data.drop(columns=['main']))\n",
    "\n",
    "# Memisahkan fitur dan target\n",
    "X = X_encoded\n",
    "y = data['main']\n",
    "\n",
    "# Mengubah nilai target menjadi bentuk numerik\n",
    "label_encoder = LabelEncoder()\n",
    "y_encoded = label_encoder.fit_transform(y)\n",
    "\n",
    "# Eksperimen\n",
    "test_sizes = [0.2, 0.3]\n",
    "K_values = [3, 5, 8]\n",
    "distance_metrics = ['euclidean', 'manhattan']\n",
    "\n",
    "for test_size in test_sizes:\n",
    "    for K in K_values:\n",
    "        for distance_metric in distance_metrics:\n",
    "            # Pembagian data latih dan uji\n",
    "            x_train, x_test, y_train, y_test = train_test_split(X, y_encoded, test_size=test_size, random_state=1)\n",
    "            \n",
    "            # Inisialisasi dan pelatihan model KNN\n",
    "            knn = KNeighborsClassifier(n_neighbors=K, metric=distance_metric)\n",
    "            knn.fit(x_train, y_train)\n",
    "            \n",
    "            # Prediksi kelas untuk data uji\n",
    "            y_pred = knn.predict(x_test)\n",
    "            \n",
    "            # Menghitung akurasi\n",
    "            accuracy = accuracy_score(y_test, y_pred)\n",
    "            \n",
    "            \n",
    "            # Menampilkan hasil\n",
    "            print(f\"Test Size: {test_size}, K: {K}, Distance Metric: {distance_metric}, Accuracy: {accuracy:.2f}\")\n"
   ]
  },
  {
   "cell_type": "code",
   "execution_count": 4,
   "metadata": {},
   "outputs": [
    {
     "name": "stdout",
     "output_type": "stream",
     "text": [
      "Akurasi Model KNN: 0.80\n"
     ]
    }
   ],
   "source": [
    "import pandas as pd\n",
    "from sklearn.model_selection import train_test_split\n",
    "from sklearn.neighbors import KNeighborsClassifier\n",
    "from sklearn.preprocessing import OneHotEncoder\n",
    "from sklearn.compose import ColumnTransformer\n",
    "from sklearn.metrics import accuracy_score\n",
    "\n",
    "# Membaca data\n",
    "data = pd.read_csv('dataset/cuaca.csv')\n",
    "\n",
    "\n",
    "# Melakukan one-hot encoding pada fitur-fitur kategori\n",
    "column_transformer = ColumnTransformer([('encoder', OneHotEncoder(), [0, 1, 2])], remainder='passthrough')\n",
    "X_encoded = column_transformer.fit_transform(data.drop(columns=['main']))\n",
    "\n",
    "# Memisahkan fitur dan target\n",
    "X = X_encoded\n",
    "y = data['main']\n",
    "\n",
    "# Pembagian data latih dan uji\n",
    "x_train, x_test, y_train, y_test = train_test_split(X, y, test_size=0.3, random_state=1)\n",
    "\n",
    "# Inisialisasi dan pelatihan model KNN\n",
    "knn = KNeighborsClassifier(n_neighbors=3)\n",
    "knn.fit(x_train, y_train)\n",
    "\n",
    "# Prediksi kelas untuk data uji\n",
    "y_pred = knn.predict(x_test)\n",
    "\n",
    "# Menghitung akurasi\n",
    "accuracy = accuracy_score(y_test, y_pred)\n",
    "print(f'Akurasi Model KNN: {accuracy:.2f}')\n",
    "\n"
   ]
  }
 ],
 "metadata": {
  "kernelspec": {
   "display_name": "env",
   "language": "python",
   "name": "python3"
  },
  "language_info": {
   "codemirror_mode": {
    "name": "ipython",
    "version": 3
   },
   "file_extension": ".py",
   "mimetype": "text/x-python",
   "name": "python",
   "nbconvert_exporter": "python",
   "pygments_lexer": "ipython3",
   "version": "3.9.18"
  }
 },
 "nbformat": 4,
 "nbformat_minor": 2
}
